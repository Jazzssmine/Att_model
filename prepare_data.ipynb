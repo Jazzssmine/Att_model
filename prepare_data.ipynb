{
 "cells": [
  {
   "cell_type": "code",
   "execution_count": 1,
   "id": "81528e68-85ac-4a98-b81b-1009618f8405",
   "metadata": {
    "collapsed": true,
    "jupyter": {
     "outputs_hidden": true
    },
    "tags": []
   },
   "outputs": [
    {
     "name": "stderr",
     "output_type": "stream",
     "text": [
      "c:\\users\\v-yianwang\\anaconda3\\envs\\py36\\lib\\site-packages\\tensorflow\\python\\framework\\dtypes.py:516: FutureWarning: Passing (type, 1) or '1type' as a synonym of type is deprecated; in a future version of numpy, it will be understood as (type, (1,)) / '(1,)type'.\n",
      "  _np_qint8 = np.dtype([(\"qint8\", np.int8, 1)])\n",
      "c:\\users\\v-yianwang\\anaconda3\\envs\\py36\\lib\\site-packages\\tensorflow\\python\\framework\\dtypes.py:517: FutureWarning: Passing (type, 1) or '1type' as a synonym of type is deprecated; in a future version of numpy, it will be understood as (type, (1,)) / '(1,)type'.\n",
      "  _np_quint8 = np.dtype([(\"quint8\", np.uint8, 1)])\n",
      "c:\\users\\v-yianwang\\anaconda3\\envs\\py36\\lib\\site-packages\\tensorflow\\python\\framework\\dtypes.py:518: FutureWarning: Passing (type, 1) or '1type' as a synonym of type is deprecated; in a future version of numpy, it will be understood as (type, (1,)) / '(1,)type'.\n",
      "  _np_qint16 = np.dtype([(\"qint16\", np.int16, 1)])\n",
      "c:\\users\\v-yianwang\\anaconda3\\envs\\py36\\lib\\site-packages\\tensorflow\\python\\framework\\dtypes.py:519: FutureWarning: Passing (type, 1) or '1type' as a synonym of type is deprecated; in a future version of numpy, it will be understood as (type, (1,)) / '(1,)type'.\n",
      "  _np_quint16 = np.dtype([(\"quint16\", np.uint16, 1)])\n",
      "c:\\users\\v-yianwang\\anaconda3\\envs\\py36\\lib\\site-packages\\tensorflow\\python\\framework\\dtypes.py:520: FutureWarning: Passing (type, 1) or '1type' as a synonym of type is deprecated; in a future version of numpy, it will be understood as (type, (1,)) / '(1,)type'.\n",
      "  _np_qint32 = np.dtype([(\"qint32\", np.int32, 1)])\n",
      "c:\\users\\v-yianwang\\anaconda3\\envs\\py36\\lib\\site-packages\\tensorflow\\python\\framework\\dtypes.py:525: FutureWarning: Passing (type, 1) or '1type' as a synonym of type is deprecated; in a future version of numpy, it will be understood as (type, (1,)) / '(1,)type'.\n",
      "  np_resource = np.dtype([(\"resource\", np.ubyte, 1)])\n",
      "c:\\users\\v-yianwang\\anaconda3\\envs\\py36\\lib\\site-packages\\tensorboard\\compat\\tensorflow_stub\\dtypes.py:541: FutureWarning: Passing (type, 1) or '1type' as a synonym of type is deprecated; in a future version of numpy, it will be understood as (type, (1,)) / '(1,)type'.\n",
      "  _np_qint8 = np.dtype([(\"qint8\", np.int8, 1)])\n",
      "c:\\users\\v-yianwang\\anaconda3\\envs\\py36\\lib\\site-packages\\tensorboard\\compat\\tensorflow_stub\\dtypes.py:542: FutureWarning: Passing (type, 1) or '1type' as a synonym of type is deprecated; in a future version of numpy, it will be understood as (type, (1,)) / '(1,)type'.\n",
      "  _np_quint8 = np.dtype([(\"quint8\", np.uint8, 1)])\n",
      "c:\\users\\v-yianwang\\anaconda3\\envs\\py36\\lib\\site-packages\\tensorboard\\compat\\tensorflow_stub\\dtypes.py:543: FutureWarning: Passing (type, 1) or '1type' as a synonym of type is deprecated; in a future version of numpy, it will be understood as (type, (1,)) / '(1,)type'.\n",
      "  _np_qint16 = np.dtype([(\"qint16\", np.int16, 1)])\n",
      "c:\\users\\v-yianwang\\anaconda3\\envs\\py36\\lib\\site-packages\\tensorboard\\compat\\tensorflow_stub\\dtypes.py:544: FutureWarning: Passing (type, 1) or '1type' as a synonym of type is deprecated; in a future version of numpy, it will be understood as (type, (1,)) / '(1,)type'.\n",
      "  _np_quint16 = np.dtype([(\"quint16\", np.uint16, 1)])\n",
      "c:\\users\\v-yianwang\\anaconda3\\envs\\py36\\lib\\site-packages\\tensorboard\\compat\\tensorflow_stub\\dtypes.py:545: FutureWarning: Passing (type, 1) or '1type' as a synonym of type is deprecated; in a future version of numpy, it will be understood as (type, (1,)) / '(1,)type'.\n",
      "  _np_qint32 = np.dtype([(\"qint32\", np.int32, 1)])\n",
      "c:\\users\\v-yianwang\\anaconda3\\envs\\py36\\lib\\site-packages\\tensorboard\\compat\\tensorflow_stub\\dtypes.py:550: FutureWarning: Passing (type, 1) or '1type' as a synonym of type is deprecated; in a future version of numpy, it will be understood as (type, (1,)) / '(1,)type'.\n",
      "  np_resource = np.dtype([(\"resource\", np.ubyte, 1)])\n"
     ]
    },
    {
     "ename": "ModuleNotFoundError",
     "evalue": "No module named 'reco_utils'",
     "output_type": "error",
     "traceback": [
      "\u001b[1;31m---------------------------------------------------------------------------\u001b[0m",
      "\u001b[1;31mModuleNotFoundError\u001b[0m                       Traceback (most recent call last)",
      "\u001b[1;32m<ipython-input-1-9f40ff69d1b4>\u001b[0m in \u001b[0;36m<module>\u001b[1;34m\u001b[0m\n\u001b[0;32m     13\u001b[0m \u001b[0mtf\u001b[0m\u001b[1;33m.\u001b[0m\u001b[0mget_logger\u001b[0m\u001b[1;33m(\u001b[0m\u001b[1;33m)\u001b[0m\u001b[1;33m.\u001b[0m\u001b[0msetLevel\u001b[0m\u001b[1;33m(\u001b[0m\u001b[1;34m'ERROR'\u001b[0m\u001b[1;33m)\u001b[0m \u001b[1;31m# only show error messages\u001b[0m\u001b[1;33m\u001b[0m\u001b[1;33m\u001b[0m\u001b[0m\n\u001b[0;32m     14\u001b[0m \u001b[1;33m\u001b[0m\u001b[0m\n\u001b[1;32m---> 15\u001b[1;33m \u001b[1;32mfrom\u001b[0m \u001b[0mreco_utils\u001b[0m\u001b[1;33m.\u001b[0m\u001b[0mrecommender\u001b[0m\u001b[1;33m.\u001b[0m\u001b[0mdeeprec\u001b[0m\u001b[1;33m.\u001b[0m\u001b[0mdeeprec_utils\u001b[0m \u001b[1;32mimport\u001b[0m \u001b[0mdownload_deeprec_resources\u001b[0m\u001b[1;33m\u001b[0m\u001b[1;33m\u001b[0m\u001b[0m\n\u001b[0m\u001b[0;32m     16\u001b[0m \u001b[1;32mfrom\u001b[0m \u001b[0mreco_utils\u001b[0m\u001b[1;33m.\u001b[0m\u001b[0mrecommender\u001b[0m\u001b[1;33m.\u001b[0m\u001b[0mnewsrec\u001b[0m\u001b[1;33m.\u001b[0m\u001b[0mnewsrec_utils\u001b[0m \u001b[1;32mimport\u001b[0m \u001b[0mprepare_hparams\u001b[0m\u001b[1;33m\u001b[0m\u001b[1;33m\u001b[0m\u001b[0m\n\u001b[0;32m     17\u001b[0m \u001b[1;32mfrom\u001b[0m \u001b[0mreco_utils\u001b[0m\u001b[1;33m.\u001b[0m\u001b[0mrecommender\u001b[0m\u001b[1;33m.\u001b[0m\u001b[0mnewsrec\u001b[0m\u001b[1;33m.\u001b[0m\u001b[0mmodels\u001b[0m\u001b[1;33m.\u001b[0m\u001b[0mlstur\u001b[0m \u001b[1;32mimport\u001b[0m \u001b[0mLSTURModel\u001b[0m\u001b[1;33m\u001b[0m\u001b[1;33m\u001b[0m\u001b[0m\n",
      "\u001b[1;31mModuleNotFoundError\u001b[0m: No module named 'reco_utils'"
     ]
    }
   ],
   "source": [
    "import sys\n",
    "sys.path.append(\"../../\")\n",
    "import os\n",
    "import numpy as np\n",
    "import pandas as pd\n",
    "import datetime\n",
    "import math\n",
    "import zipfile\n",
    "import re\n",
    "from tqdm import tqdm\n",
    "from tempfile import TemporaryDirectory\n",
    "import tensorflow as tf\n",
    "tf.get_logger().setLevel('ERROR') # only show error messages\n",
    "\n",
    "from deeprec_utils import download_deeprec_resources \n",
    "from newsrec_utils import prepare_hparams\n",
    "from mind_iterator import MINDIterator\n",
    "from newsrec_utils import get_mind_data_set\n",
    "\n",
    "print(\"System version: {}\".format(sys.version))\n",
    "print(\"Tensorflow version: {}\".format(tf.__version__))"
   ]
  },
  {
   "cell_type": "code",
   "execution_count": 2,
   "id": "336f123e-b922-4c8c-bf28-e0a1bbc15a2f",
   "metadata": {},
   "outputs": [],
   "source": [
    "epochs = 5\n",
    "seed = 40\n",
    "batch_size = 32\n",
    "\n",
    "# Options: demo, small, large\n",
    "MIND_type = 'small'"
   ]
  },
  {
   "cell_type": "code",
   "execution_count": 10,
   "id": "9fe3c55e-8d73-4670-a86c-bab8a75277f6",
   "metadata": {},
   "outputs": [],
   "source": [
    "data_path = r'MIND/small'\n",
    "\n",
    "\n",
    "train_news_file = os.path.join(data_path, 'MINDsmall_train', r'news.tsv')\n",
    "train_behaviors_file = os.path.join(data_path, 'MINDsmall_train', r'behaviors.tsv')\n",
    "valid_news_file = os.path.join(data_path, 'MINDsmall_dev', r'news.tsv')\n",
    "valid_behaviors_file = os.path.join(data_path, 'MINDsmall_dev', r'behaviors.tsv')\n"
   ]
  },
  {
   "cell_type": "code",
   "execution_count": 11,
   "id": "7e03802f-387f-4e1f-803a-689ea314020c",
   "metadata": {},
   "outputs": [
    {
     "data": {
      "text/plain": [
       "\"mind_url, mind_train_dataset, mind_dev_dataset, mind_utils = get_mind_data_set(MIND_type)\\n\\nif not os.path.exists(train_news_file):\\n    download_deeprec_resources(mind_url, os.path.join(data_path, 'train'), mind_train_dataset)\\n    \\nif not os.path.exists(valid_news_file):\\n    download_deeprec_resources(mind_url,                                os.path.join(data_path, 'valid'), mind_dev_dataset)\\nif not os.path.exists(yaml_file):\\n    download_deeprec_resources(r'https://recodatasets.z20.web.core.windows.net/newsrec/',                                os.path.join(data_path, 'utils'), mind_utils)\""
      ]
     },
     "execution_count": 11,
     "metadata": {},
     "output_type": "execute_result"
    }
   ],
   "source": [
    "wordEmb_file = os.path.join(data_path, \"utils\", \"embedding.npy\")\n",
    "userDict_file = os.path.join(data_path, \"utils\", \"uid2index.pkl\")\n",
    "wordDict_file = os.path.join(data_path, \"utils\", \"word_dict.pkl\")\n",
    "yaml_file = os.path.join(data_path, \"utils\", r'lstur.yaml')\n",
    "\n",
    "\"\"\"mind_url, mind_train_dataset, mind_dev_dataset, mind_utils = get_mind_data_set(MIND_type)\n",
    "\n",
    "if not os.path.exists(train_news_file):\n",
    "    download_deeprec_resources(mind_url, os.path.join(data_path, 'train'), mind_train_dataset)\n",
    "    \n",
    "if not os.path.exists(valid_news_file):\n",
    "    download_deeprec_resources(mind_url, \\\n",
    "                               os.path.join(data_path, 'valid'), mind_dev_dataset)\n",
    "if not os.path.exists(yaml_file):\n",
    "    download_deeprec_resources(r'https://recodatasets.z20.web.core.windows.net/newsrec/', \\\n",
    "                               os.path.join(data_path, 'utils'), mind_utils)\"\"\""
   ]
  },
  {
   "cell_type": "markdown",
   "id": "c859aa05-ee87-487c-8395-f4e8ab277c52",
   "metadata": {},
   "source": [
    "### Data preprocessing"
   ]
  },
  {
   "cell_type": "code",
   "execution_count": 6,
   "id": "d7c7e7fb-7fbe-4bb3-91fe-5cd59dc64be7",
   "metadata": {},
   "outputs": [],
   "source": [
    "His = 10 # Maximum number of news\n"
   ]
  },
  {
   "cell_type": "code",
   "execution_count": 7,
   "id": "1bebe664-acba-4fe6-a7ac-888c621ca367",
   "metadata": {},
   "outputs": [
    {
     "data": {
      "text/plain": [
       "'\\\\MIND\\\\small\\\\MINDsmall_dev\\\\news.tsv'"
      ]
     },
     "execution_count": 7,
     "metadata": {},
     "output_type": "execute_result"
    }
   ],
   "source": [
    "valid_news_file"
   ]
  },
  {
   "cell_type": "code",
   "execution_count": 8,
   "id": "8d7752ff-fe86-4310-817e-283ab38d947a",
   "metadata": {},
   "outputs": [],
   "source": [
    "def read_behaviors(file):\n",
    "    new_col = ['impr_id', 'uid', 'time', 'history', 'impressions']\n",
    "    behaviors = pd.read_csv(file, names = new_col, sep='\\t', header=None)\n",
    "    return behaviors\n",
    "def read_news(file):\n",
    "    new_col = ['nid', 'category', 'subcategory', 'title', 'abs', 'url', 'title_entities', 'abs_entities']\n",
    "    news = pd.read_csv(valid_news_file, names = new_col, sep='\\t', header=None)\n",
    "    return news"
   ]
  },
  {
   "cell_type": "code",
   "execution_count": 12,
   "id": "f49afc51-f485-414c-97d8-9dc80de8bf9b",
   "metadata": {},
   "outputs": [],
   "source": [
    "valid_behaviors = read_behaviors(valid_behaviors_file)\n",
    "train_behaviors = read_behaviors(train_behaviors_file)\n",
    "\n",
    "valid_news = read_news(valid_news_file)\n",
    "train_news = read_news(train_news_file)"
   ]
  },
  {
   "cell_type": "code",
   "execution_count": 28,
   "id": "aa09bab3-7585-41a9-9790-3c76c6403669",
   "metadata": {},
   "outputs": [],
   "source": [
    "u2index = pd.read_pickle(userDict_file)"
   ]
  },
  {
   "cell_type": "code",
   "execution_count": 193,
   "id": "d16c6794-39b6-4c82-bb73-33c7c84b6d99",
   "metadata": {
    "collapsed": true,
    "jupyter": {
     "outputs_hidden": true
    },
    "tags": []
   },
   "outputs": [
    {
     "data": {
      "text/plain": [
       "nid                                                          N49553\n",
       "category                                                  lifestyle\n",
       "subcategory                         lifestylefamilyandrelationships\n",
       "title                      The 50 Most Common Last Names in America\n",
       "abs                                               What's in a name?\n",
       "url                   https://assets.msn.com/labs/mind/AAGO6bg.html\n",
       "title_entities    [{\"Label\": \"Surname\", \"Type\": \"C\", \"WikidataId...\n",
       "abs_entities                                                     []\n",
       "Name: 2389, dtype: object"
      ]
     },
     "execution_count": 193,
     "metadata": {},
     "output_type": "execute_result"
    }
   ],
   "source": [
    "valid_news.loc[2389]"
   ]
  },
  {
   "cell_type": "code",
   "execution_count": 238,
   "id": "66741a34-5d59-4295-a4bf-233b6f061e68",
   "metadata": {},
   "outputs": [],
   "source": [
    "def get_entities(data):\n",
    "    if data == '[]':\n",
    "        return []\n",
    "    str2list = re.findall(\"\\{.*?\\}\", data)\n",
    "    num = len(str2list)\n",
    "    list2dict = []\n",
    "    for i in range(num):\n",
    "        list2dict.append(eval(str2list[i]))\n",
    "    return list2dict\n",
    "\n",
    "def aggregate(title, abstract):\n",
    "    flag = []\n",
    "    for i in range(len(title)):\n",
    "        flag.append(title[i]['WikidataId'])\n",
    "    for i in range(len(abstract)):\n",
    "        if abstract[i]['WikidataId'] in flag:\n",
    "            continue\n",
    "        else:\n",
    "            title.append(abstract[i])\n",
    "    return title\n",
    "\n",
    "def news2entities(df):\n",
    "    all_entities = []\n",
    "    for i in range(len(df)):\n",
    "        #print(i)\n",
    "        title = get_entities(df['title_entities'][i])\n",
    "        abstract = get_entities(df['abs_entities'][i])\n",
    "        \n",
    "        all_entities.append(aggregate(title, abstract))\n",
    "        return all_entities"
   ]
  },
  {
   "cell_type": "code",
   "execution_count": 239,
   "id": "905f711a-4f3d-4f5e-91f9-25af1c01c4be",
   "metadata": {
    "tags": []
   },
   "outputs": [],
   "source": [
    "new_column = news2entities(valid_news)"
   ]
  },
  {
   "cell_type": "code",
   "execution_count": 244,
   "id": "82e66bbb-28c3-44ba-909d-7158047ceaac",
   "metadata": {},
   "outputs": [],
   "source": [
    "valid_news['all_entities'] = all_entities"
   ]
  },
  {
   "cell_type": "markdown",
   "id": "2a25f317-53c1-40c1-965f-d6def9b7aacb",
   "metadata": {},
   "source": [
    "### remove unfound history"
   ]
  },
  {
   "cell_type": "code",
   "execution_count": 74,
   "id": "90a46d6e-7597-4b18-84c0-a2406fc51cf1",
   "metadata": {},
   "outputs": [
    {
     "name": "stderr",
     "output_type": "stream",
     "text": [
      "c:\\users\\v-yianwang\\anaconda3\\envs\\py36\\lib\\site-packages\\ipykernel_launcher.py:4: SettingWithCopyWarning: \n",
      "A value is trying to be set on a copy of a slice from a DataFrame\n",
      "\n",
      "See the caveats in the documentation: https://pandas.pydata.org/pandas-docs/stable/user_guide/indexing.html#returning-a-view-versus-a-copy\n",
      "  after removing the cwd from sys.path.\n"
     ]
    }
   ],
   "source": [
    "for i in range(38, len(valid_behaviors)):\n",
    "    if type(valid_behaviors['history'][i]) == str:\n",
    "        if 'N18259' in valid_behaviors['history'][i]:\n",
    "            valid_behaviors['history'][i] = valid_behaviors['history'][i].replace('N18259', '')\n",
    "    else: \n",
    "        continue"
   ]
  },
  {
   "cell_type": "code",
   "execution_count": 78,
   "id": "d384293b-26a2-409a-aace-e260a79d13fe",
   "metadata": {},
   "outputs": [],
   "source": [
    "valid_behaviors.to_csv('test.tsv', sep='\\t', header=None, index=None)"
   ]
  },
  {
   "cell_type": "code",
   "execution_count": 79,
   "id": "3317352c-9c01-4a42-a992-85bbe52b6381",
   "metadata": {},
   "outputs": [],
   "source": [
    "from tensorflow import keras"
   ]
  },
  {
   "cell_type": "code",
   "execution_count": 1,
   "id": "3b6d0246-8584-4ccb-b07b-6e360815212a",
   "metadata": {},
   "outputs": [],
   "source": [
    "import tensorflow as tf\n",
    "import tensorflow.keras as keras\n",
    "from tensorflow.keras import layers\n"
   ]
  },
  {
   "cell_type": "code",
   "execution_count": 14,
   "id": "92ca1408-6911-48d9-9b1c-f073d4627b1f",
   "metadata": {},
   "outputs": [],
   "source": [
    "model = keras.Sequential()\n",
    "model.add(layers.TimeDistributed(layers.Dense(400, input_shape=(30, )), input_shape=(None, 50, 30)))"
   ]
  },
  {
   "cell_type": "code",
   "execution_count": 15,
   "id": "403bab65-9b60-44d7-a15e-7bfa11dc5960",
   "metadata": {},
   "outputs": [
    {
     "data": {
      "text/plain": [
       "(None, None, 50, 400)"
      ]
     },
     "execution_count": 15,
     "metadata": {},
     "output_type": "execute_result"
    }
   ],
   "source": [
    "model.output_shape"
   ]
  },
  {
   "cell_type": "code",
   "execution_count": null,
   "id": "100eeddf-c4a6-42b5-93e5-c3a24095c23a",
   "metadata": {},
   "outputs": [],
   "source": [
    "Dense(32, input_shape=(16,))"
   ]
  }
 ],
 "metadata": {
  "kernelspec": {
   "display_name": "Python 3",
   "language": "python",
   "name": "python3"
  },
  "language_info": {
   "codemirror_mode": {
    "name": "ipython",
    "version": 3
   },
   "file_extension": ".py",
   "mimetype": "text/x-python",
   "name": "python",
   "nbconvert_exporter": "python",
   "pygments_lexer": "ipython3",
   "version": "3.8.8"
  }
 },
 "nbformat": 4,
 "nbformat_minor": 5
}
